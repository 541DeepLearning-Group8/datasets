{
  "cells": [
    {
      "cell_type": "markdown",
      "metadata": {
        "id": "view-in-github",
        "colab_type": "text"
      },
      "source": [
        "<a href=\"https://colab.research.google.com/github/541DeepLearning-Group8/datasets/blob/main/deberta_analysis_visualization.ipynb\" target=\"_parent\"><img src=\"https://colab.research.google.com/assets/colab-badge.svg\" alt=\"Open In Colab\"/></a>"
      ]
    },
    {
      "cell_type": "code",
      "execution_count": null,
      "id": "f911dd30",
      "metadata": {
        "id": "f911dd30"
      },
      "outputs": [],
      "source": [
        "!pip install transformers scikit-learn -q"
      ]
    },
    {
      "cell_type": "code",
      "execution_count": null,
      "id": "c3f13574",
      "metadata": {
        "id": "c3f13574"
      },
      "outputs": [],
      "source": [
        "\n",
        "import torch\n",
        "from transformers import AutoTokenizer, AutoModelForSequenceClassification\n",
        "import pandas as pd\n",
        "from torch.utils.data import Dataset, DataLoader\n",
        "from sklearn.metrics import classification_report, confusion_matrix, ConfusionMatrixDisplay\n",
        "import matplotlib.pyplot as plt\n",
        "import numpy as np\n"
      ]
    },
    {
      "cell_type": "code",
      "execution_count": null,
      "id": "50a86f97",
      "metadata": {
        "id": "50a86f97"
      },
      "outputs": [],
      "source": [
        "model_path = 'microsoft/deberta-v3-base'\n",
        "num_labels = 5\n",
        "\n",
        "from google.colab import drive\n",
        "drive.mount('/content/drive')\n",
        "save_path = '/content/drive/MyDrive/541project/deberta_model_14.pth'\n",
        "device = torch.device('cuda' if torch.cuda.is_available() else 'cpu')\n",
        "print('Using device:', device)"
      ]
    },
    {
      "cell_type": "code",
      "execution_count": null,
      "id": "5018f7aa",
      "metadata": {
        "id": "5018f7aa"
      },
      "outputs": [],
      "source": [
        "model = AutoModelForSequenceClassification.from_pretrained(model_path, num_labels=num_labels)\n",
        "model.load_state_dict(torch.load(save_path, map_location=device))\n",
        "model.to(device).eval()\n",
        "tokenizer = AutoTokenizer.from_pretrained(model_path)"
      ]
    },
    {
      "cell_type": "code",
      "execution_count": null,
      "id": "30c0147f",
      "metadata": {
        "id": "30c0147f"
      },
      "outputs": [],
      "source": [
        "from google.colab import drive\n",
        "drive.mount('/content/drive')\n",
        "test_df = pd.read_csv('/content/drive/MyDrive/541project/test.csv')\n",
        "test_df = test_df[['Clean Comments', 'Rating']].dropna()\n",
        "test_df['label'] = test_df['Rating'] - 1"
      ]
    },
    {
      "cell_type": "code",
      "execution_count": null,
      "id": "42f1cf68",
      "metadata": {
        "id": "42f1cf68"
      },
      "outputs": [],
      "source": [
        "class CommentDataset(Dataset):\n",
        "    def __init__(self, texts, labels, tokenizer, max_len=128):\n",
        "        self.encodings = tokenizer(texts, truncation=True, padding='max_length', max_length=max_len, return_tensors='pt')\n",
        "        self.labels = torch.tensor(labels, dtype=torch.long)\n",
        "    def __getitem__(self, idx):\n",
        "        item = {key: val[idx] for key, val in self.encodings.items()}\n",
        "        item['labels'] = self.labels[idx]\n",
        "        return item\n",
        "    def __len__(self):\n",
        "        return len(self.labels)\n",
        "\n",
        "test_dataset = CommentDataset(test_df['Clean Comments'].tolist(), test_df['label'].tolist(), tokenizer)\n",
        "test_loader = DataLoader(test_dataset, batch_size=16)\n"
      ]
    },
    {
      "cell_type": "code",
      "execution_count": null,
      "id": "32194f92",
      "metadata": {
        "id": "32194f92"
      },
      "outputs": [],
      "source": [
        "all_preds = []\n",
        "all_labels = []\n",
        "\n",
        "with torch.no_grad():\n",
        "    for batch in test_loader:\n",
        "        batch = {k: v.to(device) for k, v in batch.items()}\n",
        "        outputs = model(**batch)\n",
        "        preds = torch.argmax(outputs.logits, dim=-1)\n",
        "        all_preds.extend(preds.cpu().numpy())\n",
        "        all_labels.extend(batch['labels'].cpu().numpy())\n"
      ]
    },
    {
      "cell_type": "code",
      "execution_count": null,
      "id": "e311d3b7",
      "metadata": {
        "id": "e311d3b7"
      },
      "outputs": [],
      "source": [
        "report = classification_report(all_labels, all_preds, digits=4)\n",
        "print(\"Classification Report:\\n\", report)\n"
      ]
    },
    {
      "cell_type": "code",
      "execution_count": null,
      "id": "f6a26da4",
      "metadata": {
        "id": "f6a26da4"
      },
      "outputs": [],
      "source": [
        "# confusion matrix\n",
        "cm = confusion_matrix(all_labels, all_preds)\n",
        "disp = ConfusionMatrixDisplay(confusion_matrix=cm, display_labels=[1, 2, 3, 4, 5])\n",
        "disp.plot(cmap=\"Blues\")\n",
        "plt.title(\"Confusion Matrix of DeBERTa Model\")\n",
        "plt.show()\n"
      ]
    },
    {
      "cell_type": "code",
      "execution_count": null,
      "id": "5221102e",
      "metadata": {
        "id": "5221102e"
      },
      "outputs": [],
      "source": [
        "#precision / recall / f1-score\n",
        "report_dict = classification_report(all_labels, all_preds, output_dict=True)\n",
        "df = pd.DataFrame(report_dict).transpose()\n",
        "df.iloc[:5][[\"precision\", \"recall\", \"f1-score\"]].plot(kind=\"bar\", figsize=(10,6))\n",
        "plt.title(\"Per-Class Metrics\")\n",
        "plt.ylabel(\"Score\")\n",
        "plt.xticks(rotation=0)\n",
        "plt.ylim(0,1)\n",
        "plt.grid(axis='y')\n",
        "plt.show()\n"
      ]
    }
  ],
  "metadata": {
    "colab": {
      "provenance": [],
      "include_colab_link": true
    },
    "language_info": {
      "name": "python"
    },
    "kernelspec": {
      "name": "python3",
      "display_name": "Python 3"
    }
  },
  "nbformat": 4,
  "nbformat_minor": 5
}